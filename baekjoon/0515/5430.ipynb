{
 "cells": [
  {
   "cell_type": "code",
   "execution_count": 37,
   "metadata": {},
   "outputs": [],
   "source": [
    "import sys\n",
    "\n",
    "t = int(sys.stdin.readline())\n",
    "\n",
    "for _ in range(t):\n",
    "  p = sys.stdin.readline().rstrip()\n",
    "  n = int(sys.stdin.readline())\n",
    "  arr = sys.stdin.readline().strip('[]\\n').split(',')\n",
    "  if len(arr) <= 1:\n",
    "        print(\"error\", end='')\n",
    "        continue\n",
    "  else:\n",
    "    arr = [int(i) for i in arr]\n",
    "\n",
    "  for i in range(len(p)):\n",
    "    if p[i] == 'R':\n",
    "      arr.reverse()\n",
    "    elif p[i] == 'D':\n",
    "      if len(arr) == 0:\n",
    "        print(\"error\")\n",
    "        break\n",
    "      else:\n",
    "        arr = arr[1:]\n",
    "  print(arr)\n",
    "\n"
   ]
  }
 ],
 "metadata": {
  "kernelspec": {
   "display_name": "Python 3",
   "language": "python",
   "name": "python3"
  },
  "language_info": {
   "codemirror_mode": {
    "name": "ipython",
    "version": 3
   },
   "file_extension": ".py",
   "mimetype": "text/x-python",
   "name": "python",
   "nbconvert_exporter": "python",
   "pygments_lexer": "ipython3",
   "version": "3.8.9"
  },
  "orig_nbformat": 4
 },
 "nbformat": 4,
 "nbformat_minor": 2
}
