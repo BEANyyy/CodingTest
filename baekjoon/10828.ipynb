{
 "cells": [
  {
   "attachments": {},
   "cell_type": "markdown",
   "metadata": {},
   "source": [
    "<h1>스택</h1>\n",
    "정수를 저장하는 스택을 구현한 다음, 입력으로 주어지는 명령을 처리하는 프로그램을 작성하시오.\n",
    "\n",
    "명령은 총 다섯 가지이다.\n",
    "\n",
    "push X: 정수 X를 스택에 넣는 연산이다.<br>\n",
    "pop: 스택에서 가장 위에 있는 정수를 빼고, 그 수를 출력한다. 만약 스택에 들어있는 정수가 없는 경우에는 -1을 출력한다.<br>\n",
    "size: 스택에 들어있는 정수의 개수를 출력한다.<br>\n",
    "empty: 스택이 비어있으면 1, 아니면 0을 출력한다.<br>\n",
    "top: 스택의 가장 위에 있는 정수를 출력한다. 만약 스택에 들어있는 정수가 없는 경우에는 -1을 출력한다.<br>\n",
    "\n",
    "<h3>입력</h3>\n",
    "첫째 줄에 주어지는 명령의 수 N (1 ≤ N ≤ 10,000)이 주어진다. 둘째 줄부터 N개의 줄에는 명령이 하나씩 주어진다. 주어지는 정수는 1보다 크거나 같고, 100,000보다 작거나 같다. 문제에 나와있지 않은 명령이 주어지는 경우는 없다."
   ]
  },
  {
   "cell_type": "code",
   "execution_count": 1,
   "metadata": {},
   "outputs": [],
   "source": [
    "import sys\n",
    "\n",
    "n = int(sys.stdin.readline())\n",
    "st = []\n",
    "\n",
    "for i in range (n):\n",
    "  cm = sys.stdin.readline().split()\n",
    "\n",
    "  if cm[0] == 'push':\n",
    "    st.append(int(cm[1]))\n",
    "  elif cm[0] == 'top':\n",
    "    if len(st) == 0:\n",
    "      print(-1)\n",
    "    else:\n",
    "      print(st[-1])\n",
    "  elif cm[0] == 'size':\n",
    "    print(len(st))\n",
    "  elif cm[0] == 'empty':\n",
    "    if len(st) == 0:\n",
    "      print(1)\n",
    "    else:\n",
    "      print(0)\n",
    "  elif cm[0] == 'pop':\n",
    "    if len(st) > 0:\n",
    "      print(st[-1])\n",
    "      st.pop(-1)\n",
    "    else:\n",
    "      print(-1)"
   ]
  }
 ],
 "metadata": {
  "kernelspec": {
   "display_name": "base",
   "language": "python",
   "name": "python3"
  },
  "language_info": {
   "codemirror_mode": {
    "name": "ipython",
    "version": 3
   },
   "file_extension": ".py",
   "mimetype": "text/x-python",
   "name": "python",
   "nbconvert_exporter": "python",
   "pygments_lexer": "ipython3",
   "version": "3.8.9"
  },
  "orig_nbformat": 4
 },
 "nbformat": 4,
 "nbformat_minor": 2
}
